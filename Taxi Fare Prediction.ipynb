{
 "cells": [
  {
   "cell_type": "markdown",
   "id": "434b0b8a-b2a0-46cf-9fa2-4bc164c9d505",
   "metadata": {},
   "source": [
    "1) Import libraries:"
   ]
  },
  {
   "cell_type": "code",
   "execution_count": 5,
   "id": "f013eaee-80f3-4dc9-bc57-2b88d1a8de74",
   "metadata": {},
   "outputs": [],
   "source": [
    "import pandas as pd\n",
    "import numpy as np\n",
    "import matplotlib.pyplot as plt\n",
    "import seaborn as sns\n",
    "from sklearn.linear_model import LinearRegression\n",
    "from sklearn.metrics import mean_squared_error,r2_score"
   ]
  },
  {
   "cell_type": "markdown",
   "id": "ed093b53-0faf-4b8f-9b46-06d4ae855136",
   "metadata": {},
   "source": [
    "2) Load dataset:"
   ]
  },
  {
   "cell_type": "code",
   "execution_count": 12,
   "id": "54b7aac7-2c2e-44a9-81e0-9d20b6e9b3ef",
   "metadata": {},
   "outputs": [
    {
     "name": "stdout",
     "output_type": "stream",
     "text": [
      "First 5 rows:\n",
      "    Trip_ID  Distance_km     Fare_Rs  Duration_min Traffic_Level  \\\n",
      "0        1     9.735319  116.472746     44.746874          High   \n",
      "1        2    10.326559  400.736005     98.813482           Low   \n",
      "2        3    20.979714  295.256653     58.673731          High   \n",
      "3        4    31.169312  190.422112     13.823125          High   \n",
      "4        5     2.717575  169.682559     24.096040           Low   \n",
      "\n",
      "   Driver_Rating Payment_Type Day_of_Week Time_of_Day Weather  \n",
      "0       4.563782       Wallet         Fri   Afternoon   Rainy  \n",
      "1       4.531717         Cash         Fri       Night   Clear  \n",
      "2       4.383311       Wallet         Tue   Afternoon   Clear  \n",
      "3       4.931278       Wallet         Sun       Night   Rainy  \n",
      "4       3.787111         Card         Fri     Evening   Rainy  \n",
      "<class 'pandas.core.frame.DataFrame'>\n",
      "RangeIndex: 200 entries, 0 to 199\n",
      "Data columns (total 10 columns):\n",
      " #   Column         Non-Null Count  Dtype  \n",
      "---  ------         --------------  -----  \n",
      " 0   Trip_ID        200 non-null    int64  \n",
      " 1   Distance_km    200 non-null    float64\n",
      " 2   Fare_Rs        200 non-null    float64\n",
      " 3   Duration_min   200 non-null    float64\n",
      " 4   Traffic_Level  200 non-null    object \n",
      " 5   Driver_Rating  200 non-null    float64\n",
      " 6   Payment_Type   200 non-null    object \n",
      " 7   Day_of_Week    200 non-null    object \n",
      " 8   Time_of_Day    200 non-null    object \n",
      " 9   Weather        200 non-null    object \n",
      "dtypes: float64(4), int64(1), object(5)\n",
      "memory usage: 15.8+ KB\n",
      "None\n",
      "Summary:\n",
      "           Trip_ID  Distance_km     Fare_Rs  Duration_min  Driver_Rating\n",
      "count  200.000000   200.000000  200.000000    200.000000     200.000000\n",
      "mean   100.500000    18.800272  463.826457     58.571329       4.020300\n",
      "std     57.879185    10.993941  207.702240     33.916458       0.582330\n",
      "min      1.000000     1.244041  100.942390      5.021451       3.000454\n",
      "25%     50.750000     9.713864  295.065394     27.706909       3.503459\n",
      "50%    100.500000    17.928575  476.070168     57.487506       4.005035\n",
      "75%    150.250000    28.181066  653.263911     86.172219       4.536541\n",
      "max    200.000000    39.907290  797.836453    119.498351       4.991469\n"
     ]
    }
   ],
   "source": [
    "df=pd.read_csv(r\"C:\\Users\\DELL\\Downloads\\regression_datasets_large.xlsx - Taxi_Fare.csv\",encoding='latin1')\n",
    "print(\"First 5 rows:\\n\",df.head())  #print first 5 rows\n",
    "print(df.info())  #Shows the summary of the dataset\n",
    "print(\"Summary:\\n\",df.describe())  #Gives summary statistics for numerical columns"
   ]
  },
  {
   "cell_type": "markdown",
   "id": "30806651-c923-4783-8846-7d9c10360917",
   "metadata": {},
   "source": [
    "3) Data cleaning:"
   ]
  },
  {
   "cell_type": "code",
   "execution_count": 15,
   "id": "d9167ee6-6248-46d1-b1e8-fd64b1834b9d",
   "metadata": {},
   "outputs": [
    {
     "data": {
      "text/plain": [
       "Trip_ID          0\n",
       "Distance_km      0\n",
       "Fare_Rs          0\n",
       "Duration_min     0\n",
       "Traffic_Level    0\n",
       "Driver_Rating    0\n",
       "Payment_Type     0\n",
       "Day_of_Week      0\n",
       "Time_of_Day      0\n",
       "Weather          0\n",
       "dtype: int64"
      ]
     },
     "execution_count": 15,
     "metadata": {},
     "output_type": "execute_result"
    }
   ],
   "source": [
    "df.isnull().sum()  #find the missing values"
   ]
  },
  {
   "cell_type": "code",
   "execution_count": 16,
   "id": "cd784f3c-fc87-48be-8c44-5ea566e1d2c4",
   "metadata": {},
   "outputs": [
    {
     "data": {
      "text/plain": [
       "np.int64(0)"
      ]
     },
     "execution_count": 16,
     "metadata": {},
     "output_type": "execute_result"
    }
   ],
   "source": [
    "df.duplicated().sum() #find the duplicate values"
   ]
  },
  {
   "cell_type": "code",
   "execution_count": 17,
   "id": "0f794455-8ea1-4b42-b2e3-198f9f92cd0b",
   "metadata": {},
   "outputs": [
    {
     "data": {
      "text/html": [
       "<div>\n",
       "<style scoped>\n",
       "    .dataframe tbody tr th:only-of-type {\n",
       "        vertical-align: middle;\n",
       "    }\n",
       "\n",
       "    .dataframe tbody tr th {\n",
       "        vertical-align: top;\n",
       "    }\n",
       "\n",
       "    .dataframe thead th {\n",
       "        text-align: right;\n",
       "    }\n",
       "</style>\n",
       "<table border=\"1\" class=\"dataframe\">\n",
       "  <thead>\n",
       "    <tr style=\"text-align: right;\">\n",
       "      <th></th>\n",
       "      <th>Trip_ID</th>\n",
       "      <th>Distance_km</th>\n",
       "      <th>Fare_Rs</th>\n",
       "      <th>Duration_min</th>\n",
       "      <th>Traffic_Level</th>\n",
       "      <th>Driver_Rating</th>\n",
       "      <th>Payment_Type</th>\n",
       "      <th>Day_of_Week</th>\n",
       "      <th>Time_of_Day</th>\n",
       "      <th>Weather</th>\n",
       "    </tr>\n",
       "  </thead>\n",
       "  <tbody>\n",
       "    <tr>\n",
       "      <th>0</th>\n",
       "      <td>1</td>\n",
       "      <td>9.735319</td>\n",
       "      <td>116.472746</td>\n",
       "      <td>44.746874</td>\n",
       "      <td>High</td>\n",
       "      <td>4.563782</td>\n",
       "      <td>Wallet</td>\n",
       "      <td>Fri</td>\n",
       "      <td>Afternoon</td>\n",
       "      <td>Rainy</td>\n",
       "    </tr>\n",
       "    <tr>\n",
       "      <th>1</th>\n",
       "      <td>2</td>\n",
       "      <td>10.326559</td>\n",
       "      <td>400.736005</td>\n",
       "      <td>98.813482</td>\n",
       "      <td>Low</td>\n",
       "      <td>4.531717</td>\n",
       "      <td>Cash</td>\n",
       "      <td>Fri</td>\n",
       "      <td>Night</td>\n",
       "      <td>Clear</td>\n",
       "    </tr>\n",
       "    <tr>\n",
       "      <th>2</th>\n",
       "      <td>3</td>\n",
       "      <td>20.979714</td>\n",
       "      <td>295.256653</td>\n",
       "      <td>58.673731</td>\n",
       "      <td>High</td>\n",
       "      <td>4.383311</td>\n",
       "      <td>Wallet</td>\n",
       "      <td>Tue</td>\n",
       "      <td>Afternoon</td>\n",
       "      <td>Clear</td>\n",
       "    </tr>\n",
       "    <tr>\n",
       "      <th>3</th>\n",
       "      <td>4</td>\n",
       "      <td>31.169312</td>\n",
       "      <td>190.422112</td>\n",
       "      <td>13.823125</td>\n",
       "      <td>High</td>\n",
       "      <td>4.931278</td>\n",
       "      <td>Wallet</td>\n",
       "      <td>Sun</td>\n",
       "      <td>Night</td>\n",
       "      <td>Rainy</td>\n",
       "    </tr>\n",
       "    <tr>\n",
       "      <th>4</th>\n",
       "      <td>5</td>\n",
       "      <td>2.717575</td>\n",
       "      <td>169.682559</td>\n",
       "      <td>24.096040</td>\n",
       "      <td>Low</td>\n",
       "      <td>3.787111</td>\n",
       "      <td>Card</td>\n",
       "      <td>Fri</td>\n",
       "      <td>Evening</td>\n",
       "      <td>Rainy</td>\n",
       "    </tr>\n",
       "    <tr>\n",
       "      <th>...</th>\n",
       "      <td>...</td>\n",
       "      <td>...</td>\n",
       "      <td>...</td>\n",
       "      <td>...</td>\n",
       "      <td>...</td>\n",
       "      <td>...</td>\n",
       "      <td>...</td>\n",
       "      <td>...</td>\n",
       "      <td>...</td>\n",
       "      <td>...</td>\n",
       "    </tr>\n",
       "    <tr>\n",
       "      <th>195</th>\n",
       "      <td>196</td>\n",
       "      <td>18.411235</td>\n",
       "      <td>359.017167</td>\n",
       "      <td>90.063533</td>\n",
       "      <td>Low</td>\n",
       "      <td>3.615638</td>\n",
       "      <td>Cash</td>\n",
       "      <td>Wed</td>\n",
       "      <td>Night</td>\n",
       "      <td>Cloudy</td>\n",
       "    </tr>\n",
       "    <tr>\n",
       "      <th>196</th>\n",
       "      <td>197</td>\n",
       "      <td>25.132111</td>\n",
       "      <td>485.330244</td>\n",
       "      <td>75.411713</td>\n",
       "      <td>High</td>\n",
       "      <td>3.482330</td>\n",
       "      <td>Card</td>\n",
       "      <td>Sun</td>\n",
       "      <td>Afternoon</td>\n",
       "      <td>Clear</td>\n",
       "    </tr>\n",
       "    <tr>\n",
       "      <th>197</th>\n",
       "      <td>198</td>\n",
       "      <td>26.949243</td>\n",
       "      <td>653.010389</td>\n",
       "      <td>6.917719</td>\n",
       "      <td>Low</td>\n",
       "      <td>3.467135</td>\n",
       "      <td>Card</td>\n",
       "      <td>Sat</td>\n",
       "      <td>Morning</td>\n",
       "      <td>Cloudy</td>\n",
       "    </tr>\n",
       "    <tr>\n",
       "      <th>198</th>\n",
       "      <td>199</td>\n",
       "      <td>20.527726</td>\n",
       "      <td>322.587786</td>\n",
       "      <td>27.398952</td>\n",
       "      <td>Medium</td>\n",
       "      <td>3.136373</td>\n",
       "      <td>Card</td>\n",
       "      <td>Sun</td>\n",
       "      <td>Morning</td>\n",
       "      <td>Cloudy</td>\n",
       "    </tr>\n",
       "    <tr>\n",
       "      <th>199</th>\n",
       "      <td>200</td>\n",
       "      <td>26.149588</td>\n",
       "      <td>505.811816</td>\n",
       "      <td>98.203845</td>\n",
       "      <td>Medium</td>\n",
       "      <td>3.374249</td>\n",
       "      <td>Wallet</td>\n",
       "      <td>Sat</td>\n",
       "      <td>Night</td>\n",
       "      <td>Rainy</td>\n",
       "    </tr>\n",
       "  </tbody>\n",
       "</table>\n",
       "<p>200 rows × 10 columns</p>\n",
       "</div>"
      ],
      "text/plain": [
       "     Trip_ID  Distance_km     Fare_Rs  Duration_min Traffic_Level  \\\n",
       "0          1     9.735319  116.472746     44.746874          High   \n",
       "1          2    10.326559  400.736005     98.813482           Low   \n",
       "2          3    20.979714  295.256653     58.673731          High   \n",
       "3          4    31.169312  190.422112     13.823125          High   \n",
       "4          5     2.717575  169.682559     24.096040           Low   \n",
       "..       ...          ...         ...           ...           ...   \n",
       "195      196    18.411235  359.017167     90.063533           Low   \n",
       "196      197    25.132111  485.330244     75.411713          High   \n",
       "197      198    26.949243  653.010389      6.917719           Low   \n",
       "198      199    20.527726  322.587786     27.398952        Medium   \n",
       "199      200    26.149588  505.811816     98.203845        Medium   \n",
       "\n",
       "     Driver_Rating Payment_Type Day_of_Week Time_of_Day Weather  \n",
       "0         4.563782       Wallet         Fri   Afternoon   Rainy  \n",
       "1         4.531717         Cash         Fri       Night   Clear  \n",
       "2         4.383311       Wallet         Tue   Afternoon   Clear  \n",
       "3         4.931278       Wallet         Sun       Night   Rainy  \n",
       "4         3.787111         Card         Fri     Evening   Rainy  \n",
       "..             ...          ...         ...         ...     ...  \n",
       "195       3.615638         Cash         Wed       Night  Cloudy  \n",
       "196       3.482330         Card         Sun   Afternoon   Clear  \n",
       "197       3.467135         Card         Sat     Morning  Cloudy  \n",
       "198       3.136373         Card         Sun     Morning  Cloudy  \n",
       "199       3.374249       Wallet         Sat       Night   Rainy  \n",
       "\n",
       "[200 rows x 10 columns]"
      ]
     },
     "execution_count": 17,
     "metadata": {},
     "output_type": "execute_result"
    }
   ],
   "source": [
    "df.dropna()\n"
   ]
  },
  {
   "cell_type": "markdown",
   "id": "8a704390-bf31-4cd0-9ed9-2dd7c024d94b",
   "metadata": {},
   "source": [
    "4) Exploratory data analysis(EDA):"
   ]
  },
  {
   "cell_type": "code",
   "execution_count": 56,
   "id": "7ab7ca86-66b9-4db9-b182-3c2d654fdac8",
   "metadata": {},
   "outputs": [
    {
     "data": {
      "image/png": "[encoded data removed]",
      "text/plain": [
       "<Figure size 400x400 with 1 Axes>"
      ]
     },
     "metadata": {},
     "output_type": "display_data"
    }
   ],
   "source": [
    "#scatter plot for Distance and Fare\n",
    "plt.figure(figsize=(4,4))\n",
    "plt.scatter(df[\"Distance_km\"],df[\"Fare_Rs\"],alpha=0.6,color='blue')\n",
    "plt.xlabel(\"Distance(Km)\")\n",
    "plt.ylabel(\"Fare($)\")\n",
    "plt.title(\"Fare Vs Distance\")\n",
    "plt.show()"
   ]
  },
  {
   "cell_type": "code",
   "execution_count": 25,
   "id": "8086ef7e-828b-4166-8bbd-cabfa89f3a2f",
   "metadata": {},
   "outputs": [
    {
     "name": "stdout",
     "output_type": "stream",
     "text": [
      "                Trip_ID  Distance_km   Fare_Rs  Duration_min  Driver_Rating\n",
      "Trip_ID        1.000000    -0.016605  0.162788      0.117345      -0.136388\n",
      "Distance_km   -0.016605     1.000000  0.017577      0.010439      -0.076587\n",
      "Fare_Rs        0.162788     0.017577  1.000000      0.093858       0.061819\n",
      "Duration_min   0.117345     0.010439  0.093858      1.000000      -0.053792\n",
      "Driver_Rating -0.136388    -0.076587  0.061819     -0.053792       1.000000\n"
     ]
    }
   ],
   "source": [
    "print(df.corr(numeric_only=True))"
   ]
  },
  {
   "cell_type": "markdown",
   "id": "2d279177-3845-4b68-a502-75fffecdfd10",
   "metadata": {},
   "source": [
    "5) Build Linear Regression Model:"
   ]
  },
  {
   "cell_type": "code",
   "execution_count": 28,
   "id": "e5d50079-31bb-4b86-9297-18af386bd791",
   "metadata": {},
   "outputs": [
    {
     "name": "stdout",
     "output_type": "stream",
     "text": [
      "Model:Fare=457.58+0.33xDistance\n"
     ]
    }
   ],
   "source": [
    "x=df[[\"Distance_km\"]]\n",
    "y=df[\"Fare_Rs\"]\n",
    "model=LinearRegression()\n",
    "model.fit(x,y)\n",
    "slope=model.coef_[0]\n",
    "intercept=model.intercept_\n",
    "print(f\"Model:Fare={intercept:.2f}+{slope:.2f}xDistance\")"
   ]
  },
  {
   "cell_type": "markdown",
   "id": "b06030dc-bc75-44e3-a3c3-44461a98a40b",
   "metadata": {},
   "source": [
    "6)Model evaluation:"
   ]
  },
  {
   "cell_type": "code",
   "execution_count": 40,
   "id": "521d87ec-7668-419e-8cf4-3532927b0f14",
   "metadata": {},
   "outputs": [
    {
     "name": "stdout",
     "output_type": "stream",
     "text": [
      "Slope: 0.3320751027266172\n",
      "Intercept: 457.58335442769203\n",
      "RMSE:207.15\n",
      "R2 score:0.000309\n"
     ]
    }
   ],
   "source": [
    "y_pred=model.predict(x)\n",
    "MSE=mean_squared_error(y,y_pred)\n",
    "RMSE=np.sqrt(MSE)\n",
    "r2=r2_score(y,y_pred)\n",
    "print(\"Slope:\",slope)\n",
    "print(\"Intercept:\",intercept)\n",
    "print(f\"RMSE:{RMSE:.2f}\")\n",
    "print(f\"R2 score:{r2:f}\")"
   ]
  },
  {
   "cell_type": "markdown",
   "id": "7a01e985-aa22-49d2-9b8b-b0ab79a332ce",
   "metadata": {},
   "source": [
    "7)Prediction for 15 Km Trip:"
   ]
  },
  {
   "cell_type": "code",
   "execution_count": 33,
   "id": "9f93404f-5122-48bb-a2c1-1cc4c858437a",
   "metadata": {},
   "outputs": [
    {
     "name": "stdout",
     "output_type": "stream",
     "text": [
      "Prediction for 15 Km Trip:462.56\n"
     ]
    }
   ],
   "source": [
    "fare_15=model.predict(pd.DataFrame({\"Distance_km\":[15]}))\n",
    "print(f\"Prediction for 15 Km Trip:{fare_15[0]:.2f}\")"
   ]
  },
  {
   "cell_type": "markdown",
   "id": "6d9939a2-69dd-4277-9efd-4300888e0408",
   "metadata": {},
   "source": [
    "8) Visualize Regression Line:"
   ]
  },
  {
   "cell_type": "code",
   "execution_count": 51,
   "id": "f2732c96-61f6-4755-98f2-3ae3e9a7b232",
   "metadata": {},
   "outputs": [
    {
     "data": {
      "image/png": "[encoded data removed]",
      "text/plain": [
       "<Figure size 400x400 with 1 Axes>"
      ]
     },
     "metadata": {},
     "output_type": "display_data"
    }
   ],
   "source": [
    "plt.figure(figsize=(4,4))\n",
    "plt.scatter(df[\"Distance_km\"],df[\"Fare_Rs\"],alpha=0.6,color=\"blue\",label=\"Actual\")\n",
    "plt.plot(df[\"Distance_km\"],y_pred,color=\"red\",label=\"Regression Line\")\n",
    "plt.xlabel(\"Distance(Km)\")\n",
    "plt.ylabel(\"Fare($)\")\n",
    "plt.title(\"linear Regression:Taxi Fare Vs Distance\")\n",
    "plt.legend()\n",
    "plt.show()"
   ]
  },
  {
   "cell_type": "code",
   "execution_count": null,
   "id": "9994d517-58cd-44b7-a7b4-dddcdfa93917",
   "metadata": {},
   "outputs": [],
   "source": []
  },
  {
   "cell_type": "code",
   "execution_count": null,
   "id": "2ddb26d4-5567-4236-b9a9-19bbba855bf9",
   "metadata": {},
   "outputs": [],
   "source": []
  }
 ],
 "metadata": {
  "kernelspec": {
   "display_name": "Python 3 (ipykernel)",
   "language": "python",
   "name": "python3"
  },
  "language_info": {
   "codemirror_mode": {
    "name": "ipython",
    "version": 3
   },
   "file_extension": ".py",
   "mimetype": "text/x-python",
   "name": "python",
   "nbconvert_exporter": "python",
   "pygments_lexer": "ipython3",
   "version": "3.13.5"
  }
 },
 "nbformat": 4,
 "nbformat_minor": 5
}
